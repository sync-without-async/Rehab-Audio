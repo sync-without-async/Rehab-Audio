{
 "cells": [
  {
   "cell_type": "markdown",
   "metadata": {},
   "source": [
    "# Denoising"
   ]
  },
  {
   "cell_type": "code",
   "execution_count": 1,
   "metadata": {},
   "outputs": [],
   "source": [
    "import denoising as den"
   ]
  },
  {
   "cell_type": "code",
   "execution_count": 2,
   "metadata": {},
   "outputs": [
    {
     "name": "stderr",
     "output_type": "stream",
     "text": [
      "2023-10-03 04:31:43,532 INFO Loading model...\n"
     ]
    },
    {
     "name": "stderr",
     "output_type": "stream",
     "text": [
      "2023-10-03 04:31:44,896 INFO Converting audio...\n",
      "2023-10-03 04:31:44,939 INFO Inference...\n",
      "2023-10-03 04:31:45,347 INFO Converting output...\n",
      "2023-10-03 04:31:45,352 INFO Done!\n"
     ]
    }
   ],
   "source": [
    "# Load data\n",
    "DATA_AUDIO = \"./doc_and_pat_data/dhl_doctor_with_isb.wav\"\n",
    "data, fs = den.load_audio(DATA_AUDIO)\n",
    "\n",
    "# Denoising dhl doctor audio\n",
    "doctor_denoised_audio, doctor_sr = den.denoising(\n",
    "    audio=data,\n",
    "    sample_rate=fs,\n",
    "    device=\"cuda\",\n",
    "    verbose=True,\n",
    ")"
   ]
  },
  {
   "cell_type": "code",
   "execution_count": 3,
   "metadata": {},
   "outputs": [
    {
     "name": "stderr",
     "output_type": "stream",
     "text": [
      "2023-10-03 04:31:45,393 INFO Loading model...\n"
     ]
    },
    {
     "name": "stderr",
     "output_type": "stream",
     "text": [
      "2023-10-03 04:31:45,788 INFO Converting audio...\n",
      "2023-10-03 04:31:45,894 INFO Inference...\n",
      "2023-10-03 04:31:46,107 INFO Converting output...\n",
      "2023-10-03 04:31:46,109 INFO Done!\n"
     ]
    }
   ],
   "source": [
    "DATA_AUDIO = \"./doc_and_pat_data/isb_patient_with_dlh.wav\"\n",
    "data, fs = den.load_audio(DATA_AUDIO)\n",
    "\n",
    "# Denoising isb patient audio\n",
    "patient_denoised_audio, patient_sr = den.denoising(\n",
    "    audio=data,\n",
    "    sample_rate=fs,\n",
    "    device=\"cuda\",\n",
    "    verbose=True,\n",
    ")"
   ]
  },
  {
   "cell_type": "markdown",
   "metadata": {},
   "source": [
    "# Speech To Text"
   ]
  },
  {
   "cell_type": "code",
   "execution_count": 4,
   "metadata": {},
   "outputs": [
    {
     "name": "stderr",
     "output_type": "stream",
     "text": [
      "2023-10-03 04:31:48,297 WARNING kenlm python bindings are not installed. Most likely you want to install it using: pip install https://github.com/kpu/kenlm/archive/master.zip\n",
      "2023-10-03 04:31:48,299 WARNING kenlm python bindings are not installed. Most likely you want to install it using: pip install https://github.com/kpu/kenlm/archive/master.zip\n"
     ]
    }
   ],
   "source": [
    "import speech_to_text as stt"
   ]
  },
  {
   "cell_type": "code",
   "execution_count": 5,
   "metadata": {},
   "outputs": [
    {
     "name": "stderr",
     "output_type": "stream",
     "text": [
      "2023-10-03 04:31:48,676 INFO Loading model...\n",
      "Special tokens have been added in the vocabulary, make sure the associated word embeddings are fine-tuned or trained.\n",
      "2023-10-03 04:31:52,752 INFO Converting audio...\n",
      "2023-10-03 04:31:52,762 INFO Inference...\n",
      "2023-10-03 04:31:53,121 INFO Decoding...\n"
     ]
    },
    {
     "name": "stdout",
     "output_type": "stream",
     "text": [
      "['만냐 제 환자뿐는 오늘 어떤 문제로 태원하셨나버를 같 뜻 뿐을 얹제붙트 시작 때나어 을 가 트통이 있을 때는 어떤 증상이 나타나아그 에 른 생상을 없나내 알겠습니다 헌자분의 증상을 듣고 패려이 의심 됩니 하지만 비대이 진류이기 때문에 정확한 진단을 내리가 어렵습니다 혹시 가까운 병원에 방문하실 수 있나내 그렇다면 가까운 병원에 방문하셨서 진료를 받으시기 바랍니다 배려이 의심된다면 신부 액세레이를 치어 보면 정확한 진단을 내릴 수 있을 것입니내요']\n"
     ]
    }
   ],
   "source": [
    "doctor_text = stt.speech_to_text(\n",
    "    processor_pretrained_argument=\"kresnik/wav2vec2-large-xlsr-korean\",\n",
    "    audio=doctor_denoised_audio,\n",
    "    audio_sample_rate=doctor_sr,\n",
    "    device=\"cuda\",\n",
    "    verbose=True,\n",
    ")\n",
    "print(doctor_text)"
   ]
  },
  {
   "cell_type": "code",
   "execution_count": null,
   "metadata": {},
   "outputs": [],
   "source": [
    "patient_text = stt.speech_to_text(\n",
    "    processor_pretrained_argument=\"kresnik/wav2vec2-large-xlsr-korean\",\n",
    "    audio=patient_denoised_audio,\n",
    "    audio_sample_rate=patient_sr,\n",
    "    device=\"cuda\",\n",
    "    verbose=True,\n",
    ")"
   ]
  }
 ],
 "metadata": {
  "kernelspec": {
   "display_name": "Python 3",
   "language": "python",
   "name": "python3"
  },
  "language_info": {
   "codemirror_mode": {
    "name": "ipython",
    "version": 3
   },
   "file_extension": ".py",
   "mimetype": "text/x-python",
   "name": "python",
   "nbconvert_exporter": "python",
   "pygments_lexer": "ipython3",
   "version": "3.8.10"
  },
  "orig_nbformat": 4
 },
 "nbformat": 4,
 "nbformat_minor": 2
}
