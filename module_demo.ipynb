{
 "cells": [
  {
   "cell_type": "markdown",
   "metadata": {},
   "source": [
    "# Denoising"
   ]
  },
  {
   "cell_type": "code",
   "execution_count": 1,
   "metadata": {},
   "outputs": [],
   "source": [
    "import denoising as den"
   ]
  },
  {
   "cell_type": "code",
   "execution_count": 2,
   "metadata": {},
   "outputs": [
    {
     "name": "stderr",
     "output_type": "stream",
     "text": [
      "[DSR_MODULE]2023-10-05 08:45:17,296 INFO Loading model...\n",
      "[DSR_MODULE]2023-10-05 08:45:18,712 INFO Converting audio...\n",
      "[DSR_MODULE]2023-10-05 08:45:18,774 INFO Inference...\n",
      "[DSR_MODULE]2023-10-05 08:45:19,241 INFO Converting output...\n",
      "[DSR_MODULE]2023-10-05 08:45:19,246 INFO Done!\n"
     ]
    }
   ],
   "source": [
    "# Load data\n",
    "DATA_AUDIO = \"./doc_and_pat_data/dhl_doctor_with_isb.wav\"\n",
    "data, fs = den.load_audio(DATA_AUDIO)\n",
    "\n",
    "# Denoising dhl doctor audio\n",
    "doctor_denoised_audio, doctor_sr = den.denoising(\n",
    "    audio=data,\n",
    "    sample_rate=fs,\n",
    "    device=\"cuda\",\n",
    "    verbose=True,\n",
    ")"
   ]
  },
  {
   "cell_type": "code",
   "execution_count": 3,
   "metadata": {},
   "outputs": [
    {
     "name": "stderr",
     "output_type": "stream",
     "text": [
      "[DSR_MODULE]2023-10-05 08:45:19,287 INFO Loading model...\n",
      "[DSR_MODULE]2023-10-05 08:45:19,699 INFO Converting audio...\n",
      "[DSR_MODULE]2023-10-05 08:45:19,818 INFO Inference...\n",
      "[DSR_MODULE]2023-10-05 08:45:20,037 INFO Converting output...\n",
      "[DSR_MODULE]2023-10-05 08:45:20,039 INFO Done!\n"
     ]
    }
   ],
   "source": [
    "DATA_AUDIO = \"./doc_and_pat_data/isb_patient_with_dlh.wav\"\n",
    "data, fs = den.load_audio(DATA_AUDIO)\n",
    "\n",
    "# Denoising isb patient audio\n",
    "patient_denoised_audio, patient_sr = den.denoising(\n",
    "    audio=data,\n",
    "    sample_rate=fs,\n",
    "    device=\"cuda\",\n",
    "    verbose=True,\n",
    ")"
   ]
  },
  {
   "cell_type": "markdown",
   "metadata": {},
   "source": [
    "# Speech To Text"
   ]
  },
  {
   "cell_type": "code",
   "execution_count": 4,
   "metadata": {},
   "outputs": [
    {
     "name": "stderr",
     "output_type": "stream",
     "text": [
      "[DSR_MODULE]2023-10-05 08:45:21,345 INFO Created a temporary directory at /tmp/tmpfgjd2h6p\n",
      "[DSR_MODULE]2023-10-05 08:45:21,350 INFO Writing /tmp/tmpfgjd2h6p/_remote_module_non_scriptable.py\n"
     ]
    }
   ],
   "source": [
    "import speech_to_text as stt"
   ]
  },
  {
   "cell_type": "markdown",
   "metadata": {},
   "source": [
    "## STT with fine-tunined Whisper"
   ]
  },
  {
   "cell_type": "code",
   "execution_count": 5,
   "metadata": {},
   "outputs": [
    {
     "name": "stderr",
     "output_type": "stream",
     "text": [
      "[DSR_MODULE]2023-10-05 08:45:23,129 INFO device argument is not provided. Using default value: cuda\n",
      "[DSR_MODULE]2023-10-05 08:45:23,132 INFO batchsize argument is not provided. Using default value: 32\n",
      "[DSR_MODULE]2023-10-05 08:45:23,133 INFO Loading model...\n",
      "[DSR_MODULE]2023-10-05 08:45:40,652 INFO % [PROCESSOR] Converting audio...\n",
      "[DSR_MODULE]2023-10-05 08:45:40,719 INFO % [PROCESSOR] Done.\n",
      "[DSR_MODULE]2023-10-05 08:45:40,720 INFO Inference...\n",
      "[DSR_MODULE]2023-10-05 08:45:43,487 INFO Decoding...\n"
     ]
    },
    {
     "name": "stdout",
     "output_type": "stream",
     "text": [
      "['안녕하세요 환자분 오늘 어떤 문제로 대언하셨나요 발열과 두통은 언제부터 시작되었나요 발열과 두통이 있을 때는 어떤 증상이 나타나나요 그 외에 다른 증상은 없나요']\n"
     ]
    }
   ],
   "source": [
    "doctor_text_whisper = stt.speech_to_text_whisper(\n",
    "    pretrained_model_name_or_path=\"byoussef/whisper-large-v2-Ko\",\n",
    "    audio=doctor_denoised_audio,\n",
    "    audio_sample_rate=doctor_sr,\n",
    "    verbose=True\n",
    ")\n",
    "print(doctor_text_whisper)"
   ]
  },
  {
   "cell_type": "code",
   "execution_count": 6,
   "metadata": {},
   "outputs": [
    {
     "name": "stderr",
     "output_type": "stream",
     "text": [
      "[DSR_MODULE]2023-10-05 08:45:43,521 INFO device argument is not provided. Using default value: cuda\n",
      "[DSR_MODULE]2023-10-05 08:45:43,524 INFO batchsize argument is not provided. Using default value: 32\n",
      "[DSR_MODULE]2023-10-05 08:45:43,524 INFO Loading model...\n",
      "[DSR_MODULE]2023-10-05 08:45:59,542 INFO % [PROCESSOR] Converting audio...\n",
      "[DSR_MODULE]2023-10-05 08:45:59,618 INFO % [PROCESSOR] Done.\n",
      "[DSR_MODULE]2023-10-05 08:45:59,619 INFO Inference...\n",
      "[DSR_MODULE]2023-10-05 08:46:01,761 INFO Decoding...\n"
     ]
    },
    {
     "name": "stdout",
     "output_type": "stream",
     "text": [
      "['안녕하세요 의사 선생님 저는 요즘 발열과 두통이 심해서 맞습니다 며칠 전부터 시작되었는데 점점 심해지는 것 같아요 열이 나고 머리가 아프고 목이 아픕니다 콧물이 나고 기침이 납니다']\n"
     ]
    }
   ],
   "source": [
    "patient_text_whisper = stt.speech_to_text_whisper(\n",
    "    pretrained_model_name_or_path=\"byoussef/whisper-large-v2-Ko\",\n",
    "    audio=patient_denoised_audio,\n",
    "    audio_sample_rate=patient_sr,\n",
    "    verbose=True\n",
    ")\n",
    "print(patient_text_whisper)"
   ]
  },
  {
   "cell_type": "markdown",
   "metadata": {},
   "source": [
    "## Baseline STT Model"
   ]
  },
  {
   "cell_type": "code",
   "execution_count": 7,
   "metadata": {},
   "outputs": [
    {
     "name": "stderr",
     "output_type": "stream",
     "text": [
      "[DSR_MODULE]2023-10-05 08:46:01,797 INFO Loading model...\n",
      "Special tokens have been added in the vocabulary, make sure the associated word embeddings are fine-tuned or trained.\n",
      "[DSR_MODULE]2023-10-05 08:46:05,155 INFO Converting audio...\n",
      "[DSR_MODULE]2023-10-05 08:46:05,167 INFO Inference...\n",
      "[DSR_MODULE]2023-10-05 08:46:05,221 INFO Decoding...\n"
     ]
    },
    {
     "name": "stdout",
     "output_type": "stream",
     "text": [
      "['만냐 제 환자뿐는 오늘 어떤 문제로 태원하셨나버를 같 뜻 뿐을 얹제붙트 시작 때나어 을 가 트통이 있을 때는 어떤 증상이 나타나아그 에 른 생상을 없나내 알겠습니다 헌자분의 증상을 듣고 패려이 의심 됩니 하지만 비대이 진류이기 때문에 정확한 진단을 내리가 어렵습니다 혹시 가까운 병원에 방문하실 수 있나내 그렇다면 가까운 병원에 방문하셨서 진료를 받으시기 바랍니다 배려이 의심된다면 신부 액세레이를 치어 보면 정확한 진단을 내릴 수 있을 것입니내요']\n"
     ]
    }
   ],
   "source": [
    "doctor_text = stt.speech_to_text(\n",
    "    processor_pretrained_argument=\"kresnik/wav2vec2-large-xlsr-korean\",\n",
    "    audio=doctor_denoised_audio,\n",
    "    audio_sample_rate=doctor_sr,\n",
    "    device=\"cuda\",\n",
    "    verbose=True)\n",
    "print(doctor_text)"
   ]
  },
  {
   "cell_type": "code",
   "execution_count": 8,
   "metadata": {},
   "outputs": [
    {
     "name": "stderr",
     "output_type": "stream",
     "text": [
      "[DSR_MODULE]2023-10-05 08:46:05,461 INFO Loading model...\n",
      "Special tokens have been added in the vocabulary, make sure the associated word embeddings are fine-tuned or trained.\n",
      "[DSR_MODULE]2023-10-05 08:46:09,026 INFO Converting audio...\n",
      "[DSR_MODULE]2023-10-05 08:46:09,036 INFO Inference...\n",
      "[DSR_MODULE]2023-10-05 08:46:09,085 INFO Decoding...\n"
     ]
    },
    {
     "name": "stdout",
     "output_type": "stream",
     "text": [
      "['냐 세 의사상인 저는 요지 발월과 통의 심에서 왔습니매치제부터 시작되였는데 점점 시해 지는 것 같아요여린리 나고 머리가 부고 보기 아습니콧물이나고 기친이 합니내 방문하겠습니날겠습니다 한사니다다']\n"
     ]
    }
   ],
   "source": [
    "patient_text = stt.speech_to_text(\n",
    "    processor_pretrained_argument=\"kresnik/wav2vec2-large-xlsr-korean\",\n",
    "    audio=patient_denoised_audio,\n",
    "    audio_sample_rate=patient_sr,\n",
    "    device=\"cuda\",\n",
    "    verbose=True)\n",
    "print(patient_text)"
   ]
  },
  {
   "cell_type": "code",
   "execution_count": 10,
   "metadata": {},
   "outputs": [
    {
     "name": "stdout",
     "output_type": "stream",
     "text": [
      "\n",
      "당신은 문서 정리를 하는 서기 입니다. 그 중에서도 두 사람의 대화 내용을 듣고 어떤 대화인지 정리 요약하는 서기 입니다. 두 사람의 대화 내용을 당신에게 전달할 것입니다. 한명은 의사, 한명은 환자입니다. 의사는 DOC:<TEXT HERE>로 드릴 것이며 환자는 PATIENT:<TEXT HERE>로 드릴 예정입니다. 대화 내용에서는 시간적 특성이 배제 되어 있습니다. 당신은 별 다른 시간 인덱스가 없더라도 내용을 파악하고 이해하셔야 합니다. 요약 정리는 Markdown 문서 형식으로 정리가 되어야합니다. 서론, 본론, 결론으로 정리를 해야합니다. 서론은 #서론, 본론은 #본론, 결론은 #결론으로 정리하시기 바랍니다. \n",
      "DOC:<['만냐 제 환자뿐는 오늘 어떤 문제로 태원하셨나버를 같 뜻 뿐을 얹제붙트 시작 때나어 을 가 트통이 있을 때는 어떤 증상이 나타나아그 에 른 생상을 없나내 알겠습니다 헌자분의 증상을 듣고 패려이 의심 됩니 하지만 비대이 진류이기 때문에 정확한 진단을 내리가 어렵습니다 혹시 가까운 병원에 방문하실 수 있나내 그렇다면 가까운 병원에 방문하셨서 진료를 받으시기 바랍니다 배려이 의심된다면 신부 액세레이를 치어 보면 정확한 진단을 내릴 수 있을 것입니내요']>. \n",
      "PATIENT:<['냐 세 의사상인 저는 요지 발월과 통의 심에서 왔습니매치제부터 시작되였는데 점점 시해 지는 것 같아요여린리 나고 머리가 부고 보기 아습니콧물이나고 기친이 합니내 방문하겠습니날겠습니다 한사니다다']>.\n",
      "\n"
     ]
    }
   ],
   "source": [
    "system_prompt = f\"\"\"\n",
    "당신은 문서 정리를 하는 서기 입니다. 그 중에서도 두 사람의 대화 내용을 듣고 어떤 대화인지 정리 요약하는 서기 입니다. 두 사람의 대화 내용을 당신에게 전달할 것입니다. 한명은 의사, 한명은 환자입니다. 의사는 DOC:<TEXT HERE>로 드릴 것이며 환자는 PATIENT:<TEXT HERE>로 드릴 예정입니다. 대화 내용에서는 시간적 특성이 배제 되어 있습니다. 당신은 별 다른 시간 인덱스가 없더라도 내용을 파악하고 이해하셔야 합니다. 요약 정리는 Markdown 문서 형식으로 정리가 되어야합니다. 서론, 본론, 결론으로 정리를 해야합니다. 서론은 #서론, 본론은 #본론, 결론은 #결론으로 정리하시기 바랍니다. \n",
    "DOC:<{doctor_text}>. \n",
    "PATIENT:<{patient_text}>.\n",
    "\"\"\"\n",
    "print(system_prompt)"
   ]
  },
  {
   "cell_type": "markdown",
   "metadata": {},
   "source": [
    "## OpenAI - Summarize"
   ]
  },
  {
   "cell_type": "code",
   "execution_count": null,
   "metadata": {},
   "outputs": [],
   "source": [
    "import openai"
   ]
  },
  {
   "cell_type": "code",
   "execution_count": 21,
   "metadata": {},
   "outputs": [],
   "source": [
    "system_prompt = f\"당신은 문서 정리를 하는 서기 입니다. 그 중에서도 두 사람의 대화 내용을 듣고 어떤 대화인지 정리 요약하는 서기 입니다. 두 사람의 대화 내용을 당신에게 전달할 것입니다. 한명은 의사, 한명은 환자입니다. 의사는 DOC:<TEXT HERE>로 드릴 것이며 환자는 PATIENT:<TEXT HERE>로 드릴 예정입니다. 대화 내용에서는 시간적 특성이 배제 되어 있습니다.\"\n",
    "assistant_prompt = \"당신은 별 다른 시간 인덱스가 없더라도 내용을 파악하고 이해하셔야 합니다. 요약 정리는 Markdown 문서 형식으로 정리가 되어야합니다. 서론, 본론, 결론으로 정리를 해야합니다. 서론은 #서론, 본론은 #본론, 결론은 #결론으로 정리하시기 바랍니다.\"\n",
    "user_prompt = f\"DOC:<{doctor_text[0]}>. PATIENT:<{patient_text[0]}>.\"\n",
    "\n",
    "MODEL = \"gpt-3.5-turbo\"\n",
    "message = [\n",
    "    {\"role\": \"system\", \"content\": system_prompt},\n",
    "    {\"role\": \"user\", \"content\": user_prompt},\n",
    "    {\"role\": \"assistant\", \"content\": assistant_prompt},\n",
    "\n",
    "]"
   ]
  },
  {
   "cell_type": "code",
   "execution_count": 25,
   "metadata": {},
   "outputs": [
    {
     "name": "stdout",
     "output_type": "stream",
     "text": [
      "{\n",
      "  \"id\": \"chatcmpl-86EpUgpvjiPxujcgkims83hr6KGVp\",\n",
      "  \"object\": \"chat.completion\",\n",
      "  \"created\": 1696497664,\n",
      "  \"model\": \"gpt-3.5-turbo-0613\",\n",
      "  \"choices\": [\n",
      "    {\n",
      "      \"index\": 0,\n",
      "      \"message\": {\n",
      "        \"role\": \"assistant\",\n",
      "        \"content\": \"#\\uc11c\\ub860\\n\\uc758\\uc0ac\\uc640 \\ud658\\uc790 \\uc0ac\\uc774\\uc758 \\ub300\\ud654 \\ub0b4\\uc6a9\\uc744 \\uc815\\ub9ac\\ud558\\uace0 \\uc694\\uc57d\\ud558\\ub294 \\ubb38\\uc11c\\uc785\\ub2c8\\ub2e4.\\n\\n#\\ubcf8\\ub860\\n- \\uc758\\uc0ac: \\ud658\\uc790\\uc758 \\uc99d\\uc0c1\\uc744 \\ub4e3\\uace0 \\ud328\\ub834\\uc774 \\uc758\\uc2ec\\ub418\\uc9c0\\ub9cc, \\uc815\\ud655\\ud55c \\uc9c4\\ub2e8\\uc744 \\ub0b4\\ub9ac\\uae30 \\uc5b4\\ub835\\ub2e4\\uace0 \\uc5b8\\uae09\\ud569\\ub2c8\\ub2e4.\\n- \\uc758\\uc0ac: \\ud658\\uc790\\uc5d0\\uac8c \\uac00\\uae4c\\uc6b4 \\ubcd1\\uc6d0\\uc744 \\ubc29\\ubb38\\ud558\\uc5ec \\uc9c4\\ub8cc\\ub97c \\ubc1b\\uc744 \\uac83\\uc744 \\uad8c\\uc720\\ud569\\ub2c8\\ub2e4.\\n- \\ud658\\uc790: \\uc99d\\uc0c1\\uc73c\\ub85c\\ub294 \\uc694\\uc9c0 \\ubc1c\\uc6d4\\uacfc \\ud1b5, \\uc5ec\\ub9b0\\ub9ac, \\uba38\\ub9ac\\uac00 \\ubd80\\uace0, \\ucf54\\ubb3c\\uc774\\ub098\\uace0 \\uae30\\uce5c\\uc774 \\uc788\\ub2e4\\uace0 \\uc5b8\\uae09\\ud569\\ub2c8\\ub2e4.\\n- \\ud658\\uc790: \\ubcd1\\uc6d0 \\ubc29\\ubb38\\uc744 \\uc57d\\uc18d\\ud558\\uace0 \\uac10\\uc0ac\\uc758 \\ub9d0\\uc744 \\uc804\\ud569\\ub2c8\\ub2e4.\\n\\n#\\uacb0\\ub860\\n\\uc758\\uc0ac\\ub294 \\ud658\\uc790\\uc758 \\uc99d\\uc0c1\\uc744 \\ub4e3\\uace0 \\ud328\\ub834\\uc744 \\uc758\\uc2ec\\ud558\\uba70, \\uc815\\ud655\\ud55c \\uc9c4\\ub2e8\\uc744 \\ub0b4\\ub9ac\\uae30 \\uc5b4\\ub835\\ub2e4\\uace0 \\uc5b8\\uae09\\ud569\\ub2c8\\ub2e4. \\ud658\\uc790\\uc5d0\\uac8c \\uac00\\uae4c\\uc6b4 \\ubcd1\\uc6d0\\uc744 \\ubc29\\ubb38\\ud558\\uc5ec \\uc9c4\\ub8cc\\ub97c \\ubc1b\\uc744 \\uac83\\uc744 \\uad8c\\uc720\\ud569\\ub2c8\\ub2e4. \\ud658\\uc790\\ub294 \\ubcd1\\uc6d0 \\ubc29\\ubb38\\uc744 \\uc57d\\uc18d\\ud558\\uace0 \\uac10\\uc0ac\\uc758 \\ub9d0\\uc744 \\uc804\\ud569\\ub2c8\\ub2e4.\"\n",
      "      },\n",
      "      \"finish_reason\": \"stop\"\n",
      "    }\n",
      "  ],\n",
      "  \"usage\": {\n",
      "    \"prompt_tokens\": 640,\n",
      "    \"completion_tokens\": 321,\n",
      "    \"total_tokens\": 961\n",
      "  }\n",
      "}\n"
     ]
    }
   ],
   "source": [
    "response = openai.ChatCompletion.create(\n",
    "    model=MODEL,\n",
    "    messages=message,\n",
    "    temperature=0.0,\n",
    "    max_tokens=1024,\n",
    ")\n",
    "\n",
    "print(response)"
   ]
  },
  {
   "cell_type": "code",
   "execution_count": 26,
   "metadata": {},
   "outputs": [
    {
     "name": "stdout",
     "output_type": "stream",
     "text": [
      "#서론\n",
      "의사와 환자 사이의 대화 내용을 정리하고 요약하는 문서입니다.\n",
      "\n",
      "#본론\n",
      "- 의사: 환자의 증상을 듣고 패렴이 의심되지만, 정확한 진단을 내리기 어렵다고 언급합니다.\n",
      "- 의사: 환자에게 가까운 병원을 방문하여 진료를 받을 것을 권유합니다.\n",
      "- 환자: 증상으로는 요지 발월과 통, 여린리, 머리가 부고, 코물이나고 기친이 있다고 언급합니다.\n",
      "- 환자: 병원 방문을 약속하고 감사의 말을 전합니다.\n",
      "\n",
      "#결론\n",
      "의사는 환자의 증상을 듣고 패렴을 의심하며, 정확한 진단을 내리기 어렵다고 언급합니다. 환자에게 가까운 병원을 방문하여 진료를 받을 것을 권유합니다. 환자는 병원 방문을 약속하고 감사의 말을 전합니다.\n"
     ]
    }
   ],
   "source": [
    "print(response['choices'][0]['message']['content'])"
   ]
  }
 ],
 "metadata": {
  "kernelspec": {
   "display_name": "Python 3",
   "language": "python",
   "name": "python3"
  },
  "language_info": {
   "codemirror_mode": {
    "name": "ipython",
    "version": 3
   },
   "file_extension": ".py",
   "mimetype": "text/x-python",
   "name": "python",
   "nbconvert_exporter": "python",
   "pygments_lexer": "ipython3",
   "version": "3.8.10"
  },
  "orig_nbformat": 4
 },
 "nbformat": 4,
 "nbformat_minor": 2
}
